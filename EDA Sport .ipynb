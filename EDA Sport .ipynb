{
 "cells": [
  {
   "cell_type": "code",
   "execution_count": 2,
   "id": "5eb5ce95-5c88-46a8-9910-4c62d4b9e030",
   "metadata": {},
   "outputs": [],
   "source": [
    "import pandas as pd\n",
    "import numpy as np  \n",
    "import matplotlib.pyplot as plt  \n",
    "%matplotlib inline"
   ]
  },
  {
   "cell_type": "code",
   "execution_count": 3,
   "id": "3c33aba1-ed75-4900-9095-2bd06672a8f8",
   "metadata": {},
   "outputs": [
    {
     "data": {
      "text/html": [
       "<div>\n",
       "<style scoped>\n",
       "    .dataframe tbody tr th:only-of-type {\n",
       "        vertical-align: middle;\n",
       "    }\n",
       "\n",
       "    .dataframe tbody tr th {\n",
       "        vertical-align: top;\n",
       "    }\n",
       "\n",
       "    .dataframe thead th {\n",
       "        text-align: right;\n",
       "    }\n",
       "</style>\n",
       "<table border=\"1\" class=\"dataframe\">\n",
       "  <thead>\n",
       "    <tr style=\"text-align: right;\">\n",
       "      <th></th>\n",
       "      <th>id</th>\n",
       "      <th>season</th>\n",
       "      <th>city</th>\n",
       "      <th>date</th>\n",
       "      <th>team1</th>\n",
       "      <th>team2</th>\n",
       "      <th>toss_winner</th>\n",
       "      <th>toss_decision</th>\n",
       "      <th>result</th>\n",
       "      <th>dl_applied</th>\n",
       "      <th>winner</th>\n",
       "      <th>win_by_runs</th>\n",
       "      <th>win_by_wickets</th>\n",
       "      <th>player_of_match</th>\n",
       "      <th>venue</th>\n",
       "      <th>umpire1</th>\n",
       "      <th>umpire2</th>\n",
       "      <th>umpire3</th>\n",
       "    </tr>\n",
       "  </thead>\n",
       "  <tbody>\n",
       "    <tr>\n",
       "      <th>0</th>\n",
       "      <td>1</td>\n",
       "      <td>2017</td>\n",
       "      <td>Hyderabad</td>\n",
       "      <td>2017-04-05</td>\n",
       "      <td>Sunrisers Hyderabad</td>\n",
       "      <td>Royal Challengers Bangalore</td>\n",
       "      <td>Royal Challengers Bangalore</td>\n",
       "      <td>field</td>\n",
       "      <td>normal</td>\n",
       "      <td>0</td>\n",
       "      <td>Sunrisers Hyderabad</td>\n",
       "      <td>35</td>\n",
       "      <td>0</td>\n",
       "      <td>Yuvraj Singh</td>\n",
       "      <td>Rajiv Gandhi International Stadium, Uppal</td>\n",
       "      <td>AY Dandekar</td>\n",
       "      <td>NJ Llong</td>\n",
       "      <td>NaN</td>\n",
       "    </tr>\n",
       "    <tr>\n",
       "      <th>1</th>\n",
       "      <td>2</td>\n",
       "      <td>2017</td>\n",
       "      <td>Pune</td>\n",
       "      <td>2017-04-06</td>\n",
       "      <td>Mumbai Indians</td>\n",
       "      <td>Rising Pune Supergiant</td>\n",
       "      <td>Rising Pune Supergiant</td>\n",
       "      <td>field</td>\n",
       "      <td>normal</td>\n",
       "      <td>0</td>\n",
       "      <td>Rising Pune Supergiant</td>\n",
       "      <td>0</td>\n",
       "      <td>7</td>\n",
       "      <td>SPD Smith</td>\n",
       "      <td>Maharashtra Cricket Association Stadium</td>\n",
       "      <td>A Nand Kishore</td>\n",
       "      <td>S Ravi</td>\n",
       "      <td>NaN</td>\n",
       "    </tr>\n",
       "    <tr>\n",
       "      <th>2</th>\n",
       "      <td>3</td>\n",
       "      <td>2017</td>\n",
       "      <td>Rajkot</td>\n",
       "      <td>2017-04-07</td>\n",
       "      <td>Gujarat Lions</td>\n",
       "      <td>Kolkata Knight Riders</td>\n",
       "      <td>Kolkata Knight Riders</td>\n",
       "      <td>field</td>\n",
       "      <td>normal</td>\n",
       "      <td>0</td>\n",
       "      <td>Kolkata Knight Riders</td>\n",
       "      <td>0</td>\n",
       "      <td>10</td>\n",
       "      <td>CA Lynn</td>\n",
       "      <td>Saurashtra Cricket Association Stadium</td>\n",
       "      <td>Nitin Menon</td>\n",
       "      <td>CK Nandan</td>\n",
       "      <td>NaN</td>\n",
       "    </tr>\n",
       "    <tr>\n",
       "      <th>3</th>\n",
       "      <td>4</td>\n",
       "      <td>2017</td>\n",
       "      <td>Indore</td>\n",
       "      <td>2017-04-08</td>\n",
       "      <td>Rising Pune Supergiant</td>\n",
       "      <td>Kings XI Punjab</td>\n",
       "      <td>Kings XI Punjab</td>\n",
       "      <td>field</td>\n",
       "      <td>normal</td>\n",
       "      <td>0</td>\n",
       "      <td>Kings XI Punjab</td>\n",
       "      <td>0</td>\n",
       "      <td>6</td>\n",
       "      <td>GJ Maxwell</td>\n",
       "      <td>Holkar Cricket Stadium</td>\n",
       "      <td>AK Chaudhary</td>\n",
       "      <td>C Shamshuddin</td>\n",
       "      <td>NaN</td>\n",
       "    </tr>\n",
       "    <tr>\n",
       "      <th>4</th>\n",
       "      <td>5</td>\n",
       "      <td>2017</td>\n",
       "      <td>Bangalore</td>\n",
       "      <td>2017-04-08</td>\n",
       "      <td>Royal Challengers Bangalore</td>\n",
       "      <td>Delhi Daredevils</td>\n",
       "      <td>Royal Challengers Bangalore</td>\n",
       "      <td>bat</td>\n",
       "      <td>normal</td>\n",
       "      <td>0</td>\n",
       "      <td>Royal Challengers Bangalore</td>\n",
       "      <td>15</td>\n",
       "      <td>0</td>\n",
       "      <td>KM Jadhav</td>\n",
       "      <td>M Chinnaswamy Stadium</td>\n",
       "      <td>NaN</td>\n",
       "      <td>NaN</td>\n",
       "      <td>NaN</td>\n",
       "    </tr>\n",
       "  </tbody>\n",
       "</table>\n",
       "</div>"
      ],
      "text/plain": [
       "   id  season       city        date                        team1  \\\n",
       "0   1    2017  Hyderabad  2017-04-05          Sunrisers Hyderabad   \n",
       "1   2    2017       Pune  2017-04-06               Mumbai Indians   \n",
       "2   3    2017     Rajkot  2017-04-07                Gujarat Lions   \n",
       "3   4    2017     Indore  2017-04-08       Rising Pune Supergiant   \n",
       "4   5    2017  Bangalore  2017-04-08  Royal Challengers Bangalore   \n",
       "\n",
       "                         team2                  toss_winner toss_decision  \\\n",
       "0  Royal Challengers Bangalore  Royal Challengers Bangalore         field   \n",
       "1       Rising Pune Supergiant       Rising Pune Supergiant         field   \n",
       "2        Kolkata Knight Riders        Kolkata Knight Riders         field   \n",
       "3              Kings XI Punjab              Kings XI Punjab         field   \n",
       "4             Delhi Daredevils  Royal Challengers Bangalore           bat   \n",
       "\n",
       "   result  dl_applied                       winner  win_by_runs  \\\n",
       "0  normal           0          Sunrisers Hyderabad           35   \n",
       "1  normal           0       Rising Pune Supergiant            0   \n",
       "2  normal           0        Kolkata Knight Riders            0   \n",
       "3  normal           0              Kings XI Punjab            0   \n",
       "4  normal           0  Royal Challengers Bangalore           15   \n",
       "\n",
       "   win_by_wickets player_of_match                                      venue  \\\n",
       "0               0    Yuvraj Singh  Rajiv Gandhi International Stadium, Uppal   \n",
       "1               7       SPD Smith    Maharashtra Cricket Association Stadium   \n",
       "2              10         CA Lynn     Saurashtra Cricket Association Stadium   \n",
       "3               6      GJ Maxwell                     Holkar Cricket Stadium   \n",
       "4               0       KM Jadhav                      M Chinnaswamy Stadium   \n",
       "\n",
       "          umpire1        umpire2 umpire3  \n",
       "0     AY Dandekar       NJ Llong     NaN  \n",
       "1  A Nand Kishore         S Ravi     NaN  \n",
       "2     Nitin Menon      CK Nandan     NaN  \n",
       "3    AK Chaudhary  C Shamshuddin     NaN  \n",
       "4             NaN            NaN     NaN  "
      ]
     },
     "execution_count": 3,
     "metadata": {},
     "output_type": "execute_result"
    }
   ],
   "source": [
    "data = pd.read_csv(r'C:\\Users\\H.W\\Desktop\\Spark\\matches.csv')\n",
    "data.head(5)"
   ]
  },
  {
   "cell_type": "code",
   "execution_count": 7,
   "id": "299eaa4c-2d15-4d13-a424-08aeed8c4b8a",
   "metadata": {},
   "outputs": [
    {
     "name": "stdout",
     "output_type": "stream",
     "text": [
      "<class 'pandas.core.frame.DataFrame'>\n",
      "RangeIndex: 756 entries, 0 to 755\n",
      "Data columns (total 18 columns):\n",
      " #   Column           Non-Null Count  Dtype \n",
      "---  ------           --------------  ----- \n",
      " 0   id               756 non-null    int64 \n",
      " 1   season           756 non-null    int64 \n",
      " 2   city             756 non-null    object\n",
      " 3   date             756 non-null    object\n",
      " 4   team1            756 non-null    object\n",
      " 5   team2            756 non-null    object\n",
      " 6   toss_winner      756 non-null    object\n",
      " 7   toss_decision    756 non-null    object\n",
      " 8   result           756 non-null    object\n",
      " 9   dl_applied       756 non-null    int64 \n",
      " 10  winner           756 non-null    object\n",
      " 11  win_by_runs      756 non-null    int64 \n",
      " 12  win_by_wickets   756 non-null    int64 \n",
      " 13  player_of_match  756 non-null    object\n",
      " 14  venue            756 non-null    object\n",
      " 15  umpire1          756 non-null    object\n",
      " 16  umpire2          756 non-null    object\n",
      " 17  umpire3          756 non-null    object\n",
      "dtypes: int64(5), object(13)\n",
      "memory usage: 106.4+ KB\n"
     ]
    }
   ],
   "source": [
    "data.info()"
   ]
  },
  {
   "cell_type": "markdown",
   "id": "1b1905e0-1e28-4c8a-8663-3dff516ff963",
   "metadata": {},
   "source": [
    "### Check for Null Values"
   ]
  },
  {
   "cell_type": "code",
   "execution_count": 8,
   "id": "312790af-7866-4448-b4e4-89786a18bcf1",
   "metadata": {},
   "outputs": [
    {
     "data": {
      "text/plain": [
       "id                 0\n",
       "season             0\n",
       "city               0\n",
       "date               0\n",
       "team1              0\n",
       "team2              0\n",
       "toss_winner        0\n",
       "toss_decision      0\n",
       "result             0\n",
       "dl_applied         0\n",
       "winner             0\n",
       "win_by_runs        0\n",
       "win_by_wickets     0\n",
       "player_of_match    0\n",
       "venue              0\n",
       "umpire1            0\n",
       "umpire2            0\n",
       "umpire3            0\n",
       "dtype: int64"
      ]
     },
     "execution_count": 8,
     "metadata": {},
     "output_type": "execute_result"
    }
   ],
   "source": [
    "data.isna().sum()"
   ]
  },
  {
   "cell_type": "markdown",
   "id": "47ce0180-9fe1-485c-a24c-5b5733316e3c",
   "metadata": {},
   "source": [
    "### Fill Null Values in Data"
   ]
  },
  {
   "cell_type": "code",
   "execution_count": 6,
   "id": "25c9ca74-37cf-40a0-b765-c6dc6a3a1473",
   "metadata": {},
   "outputs": [],
   "source": [
    "data.fillna('Null',inplace=True)"
   ]
  },
  {
   "cell_type": "code",
   "execution_count": 19,
   "id": "67d7a7e2-947c-47e6-8b53-2624969a9dda",
   "metadata": {},
   "outputs": [
    {
     "data": {
      "text/html": [
       "<div>\n",
       "<style scoped>\n",
       "    .dataframe tbody tr th:only-of-type {\n",
       "        vertical-align: middle;\n",
       "    }\n",
       "\n",
       "    .dataframe tbody tr th {\n",
       "        vertical-align: top;\n",
       "    }\n",
       "\n",
       "    .dataframe thead th {\n",
       "        text-align: right;\n",
       "    }\n",
       "</style>\n",
       "<table border=\"1\" class=\"dataframe\">\n",
       "  <thead>\n",
       "    <tr style=\"text-align: right;\">\n",
       "      <th></th>\n",
       "      <th>id</th>\n",
       "      <th>season</th>\n",
       "      <th>dl_applied</th>\n",
       "      <th>win_by_runs</th>\n",
       "      <th>win_by_wickets</th>\n",
       "    </tr>\n",
       "  </thead>\n",
       "  <tbody>\n",
       "    <tr>\n",
       "      <th>id</th>\n",
       "      <td>1.000000</td>\n",
       "      <td>0.668304</td>\n",
       "      <td>-0.011658</td>\n",
       "      <td>-0.039403</td>\n",
       "      <td>-0.012239</td>\n",
       "    </tr>\n",
       "    <tr>\n",
       "      <th>season</th>\n",
       "      <td>0.668304</td>\n",
       "      <td>1.000000</td>\n",
       "      <td>-0.001116</td>\n",
       "      <td>-0.037529</td>\n",
       "      <td>-0.009379</td>\n",
       "    </tr>\n",
       "    <tr>\n",
       "      <th>dl_applied</th>\n",
       "      <td>-0.011658</td>\n",
       "      <td>-0.001116</td>\n",
       "      <td>1.000000</td>\n",
       "      <td>-0.016349</td>\n",
       "      <td>-0.011631</td>\n",
       "    </tr>\n",
       "    <tr>\n",
       "      <th>win_by_runs</th>\n",
       "      <td>-0.039403</td>\n",
       "      <td>-0.037529</td>\n",
       "      <td>-0.016349</td>\n",
       "      <td>1.000000</td>\n",
       "      <td>-0.560420</td>\n",
       "    </tr>\n",
       "    <tr>\n",
       "      <th>win_by_wickets</th>\n",
       "      <td>-0.012239</td>\n",
       "      <td>-0.009379</td>\n",
       "      <td>-0.011631</td>\n",
       "      <td>-0.560420</td>\n",
       "      <td>1.000000</td>\n",
       "    </tr>\n",
       "  </tbody>\n",
       "</table>\n",
       "</div>"
      ],
      "text/plain": [
       "                      id    season  dl_applied  win_by_runs  win_by_wickets\n",
       "id              1.000000  0.668304   -0.011658    -0.039403       -0.012239\n",
       "season          0.668304  1.000000   -0.001116    -0.037529       -0.009379\n",
       "dl_applied     -0.011658 -0.001116    1.000000    -0.016349       -0.011631\n",
       "win_by_runs    -0.039403 -0.037529   -0.016349     1.000000       -0.560420\n",
       "win_by_wickets -0.012239 -0.009379   -0.011631    -0.560420        1.000000"
      ]
     },
     "execution_count": 19,
     "metadata": {},
     "output_type": "execute_result"
    }
   ],
   "source": [
    "data.corr()"
   ]
  },
  {
   "cell_type": "markdown",
   "id": "9625650b-e2fd-4fe4-84a8-8aae00b33527",
   "metadata": {},
   "source": [
    "# The Best Players & Teams I suggest\n",
    "## Best Players"
   ]
  },
  {
   "cell_type": "code",
   "execution_count": 35,
   "id": "f631b44f-4ce6-4c37-8e81-a86fa2a2c302",
   "metadata": {},
   "outputs": [
    {
     "name": "stdout",
     "output_type": "stream",
     "text": [
      "The Best Player :  CH Gayle\n",
      "The Best Five Players :  ['CH Gayle', 'AB de Villiers', 'RG Sharma', 'MS Dhoni', 'DA Warner']\n"
     ]
    }
   ],
   "source": [
    "player=dict(data['player_of_match'].value_counts())\n",
    "lst=list(player.keys())\n",
    "print('The Best Player : ',lst[0])\n",
    "print('The Best Five Players : ',lst[0:5])"
   ]
  },
  {
   "cell_type": "markdown",
   "id": "751a83a9-71e8-43da-bd22-4fa537b0d14f",
   "metadata": {},
   "source": [
    "## Best Teams"
   ]
  },
  {
   "cell_type": "code",
   "execution_count": 36,
   "id": "1e8b89c1-20f2-4172-88f4-7ce227a20bc3",
   "metadata": {},
   "outputs": [
    {
     "name": "stdout",
     "output_type": "stream",
     "text": [
      "The Best Team :  Mumbai Indians\n",
      "The Best Five Teams :  ['Mumbai Indians', 'Chennai Super Kings', 'Kolkata Knight Riders', 'Royal Challengers Bangalore', 'Kings XI Punjab']\n"
     ]
    }
   ],
   "source": [
    "teams=data['winner'].value_counts()\n",
    "lst1=list(teams.keys())\n",
    "print('The Best Team : ',lst1[0])\n",
    "print('The Best Five Teams : ',lst1[0:5])"
   ]
  },
  {
   "cell_type": "markdown",
   "id": "4553ab58-b4f6-453b-a34d-09156afa0fdf",
   "metadata": {},
   "source": [
    "## The Result of Toss"
   ]
  },
  {
   "cell_type": "code",
   "execution_count": 11,
   "id": "bc66fe5f-98ad-49a6-b8f6-ed6bbe077a75",
   "metadata": {},
   "outputs": [
    {
     "data": {
      "text/plain": [
       "field    463\n",
       "bat      293\n",
       "Name: toss_decision, dtype: int64"
      ]
     },
     "execution_count": 11,
     "metadata": {},
     "output_type": "execute_result"
    }
   ],
   "source": [
    "data['toss_decision'].value_counts()"
   ]
  },
  {
   "cell_type": "markdown",
   "id": "b020b6d3-914e-4d0f-9a69-efd9831516be",
   "metadata": {},
   "source": [
    "### The Number of victory for every team"
   ]
  },
  {
   "cell_type": "code",
   "execution_count": 18,
   "id": "66331f36-22d0-4df6-bbff-58cc7748f35a",
   "metadata": {},
   "outputs": [
    {
     "data": {
      "text/plain": [
       "winner\n",
       "Mumbai Indians                 109\n",
       "Chennai Super Kings            100\n",
       "Kolkata Knight Riders           92\n",
       "Royal Challengers Bangalore     84\n",
       "Kings XI Punjab                 82\n",
       "Rajasthan Royals                75\n",
       "Delhi Daredevils                67\n",
       "Sunrisers Hyderabad             58\n",
       "Deccan Chargers                 29\n",
       "Gujarat Lions                   13\n",
       "Pune Warriors                   12\n",
       "Rising Pune Supergiant          10\n",
       "Delhi Capitals                  10\n",
       "Kochi Tuskers Kerala             6\n",
       "Rising Pune Supergiants          5\n",
       "Null                             4\n",
       "dtype: int64"
      ]
     },
     "execution_count": 18,
     "metadata": {},
     "output_type": "execute_result"
    }
   ],
   "source": [
    "data.value_counts(data['winner'])"
   ]
  },
  {
   "cell_type": "markdown",
   "id": "8e5a9b0f-c123-4687-b40b-c5f81001ed39",
   "metadata": {},
   "source": [
    "### The count of toss winner at matches for every team"
   ]
  },
  {
   "cell_type": "code",
   "execution_count": 20,
   "id": "4faba27b-4534-4b33-a283-a4e30a20ae11",
   "metadata": {},
   "outputs": [
    {
     "data": {
      "text/plain": [
       "Mumbai Indians                 98\n",
       "Kolkata Knight Riders          92\n",
       "Chennai Super Kings            89\n",
       "Kings XI Punjab                81\n",
       "Royal Challengers Bangalore    81\n",
       "Rajasthan Royals               80\n",
       "Delhi Daredevils               80\n",
       "Sunrisers Hyderabad            46\n",
       "Deccan Chargers                43\n",
       "Pune Warriors                  20\n",
       "Gujarat Lions                  15\n",
       "Delhi Capitals                 10\n",
       "Kochi Tuskers Kerala            8\n",
       "Rising Pune Supergiants         7\n",
       "Rising Pune Supergiant          6\n",
       "Name: toss_winner, dtype: int64"
      ]
     },
     "execution_count": 20,
     "metadata": {},
     "output_type": "execute_result"
    }
   ],
   "source": [
    "data['toss_winner'].value_counts()"
   ]
  },
  {
   "cell_type": "markdown",
   "id": "b25d9a74-997f-4d4b-807e-774cb82d7bf7",
   "metadata": {},
   "source": [
    "## The most team wins matches by wickets"
   ]
  },
  {
   "cell_type": "code",
   "execution_count": 28,
   "id": "bf439b9a-b759-49a8-9c69-425a4a805a1e",
   "metadata": {},
   "outputs": [
    {
     "name": "stdout",
     "output_type": "stream",
     "text": [
      "The Most Team wins by wickets is :  Mumbai Indians\n",
      "The Most Number of wickets is :  59\n"
     ]
    }
   ],
   "source": [
    "dff=dict(data.value_counts(['win_by_wickets','winner']))\n",
    "#print(dff)\n",
    "key_wicket=list(dff.keys())\n",
    "val_wicket=list(dff.values())\n",
    "most_team_wicket=list(key[0])\n",
    "print('The Most Team wins by wickets is : ',most_team[1])\n",
    "print('The Most Number of wickets is : ',val[0])"
   ]
  },
  {
   "cell_type": "markdown",
   "id": "64c159cb-19d1-46eb-b205-2272c8bc36d4",
   "metadata": {},
   "source": [
    "## The most team wins matches by runs"
   ]
  },
  {
   "cell_type": "code",
   "execution_count": 33,
   "id": "8bc7ec31-6d12-41a6-adf4-882785fc9438",
   "metadata": {},
   "outputs": [
    {
     "name": "stdout",
     "output_type": "stream",
     "text": [
      "The Most Team wins by runs is :  Kolkata Knight Riders\n",
      "The Most Number of runs is :  56\n"
     ]
    }
   ],
   "source": [
    "df1=dict(data.value_counts(['win_by_runs','winner']))\n",
    "#print(df1)\n",
    "key_runs=list(df1.keys())\n",
    "val_runs=list(df1.values())\n",
    "most_team_run=list(key_runs[0])\n",
    "print('The Most Team wins by runs is : ',most_team_run[1])\n",
    "print('The Most Number of runs is : ',val_runs[0])"
   ]
  },
  {
   "cell_type": "markdown",
   "id": "51b45fe0-c5a5-4b1b-9963-c4bed1a33883",
   "metadata": {},
   "source": [
    "#### The Relation between Toss Winner & The Winner of The Match"
   ]
  },
  {
   "cell_type": "code",
   "execution_count": 22,
   "id": "0fcbdd4f-ac29-48d4-9702-edf9b7fb79e6",
   "metadata": {},
   "outputs": [
    {
     "data": {
      "text/plain": [
       "toss_winner                  winner                     \n",
       "Chennai Super Kings          Chennai Super Kings            57\n",
       "Mumbai Indians               Mumbai Indians                 56\n",
       "Kolkata Knight Riders        Kolkata Knight Riders          53\n",
       "Rajasthan Royals             Rajasthan Royals               42\n",
       "Royal Challengers Bangalore  Royal Challengers Bangalore    41\n",
       "                                                            ..\n",
       "Sunrisers Hyderabad          Rising Pune Supergiant          1\n",
       "Kochi Tuskers Kerala         Deccan Chargers                 1\n",
       "Delhi Capitals               Kings XI Punjab                 1\n",
       "Rising Pune Supergiants      Royal Challengers Bangalore     1\n",
       "Mumbai Indians               Pune Warriors                   1\n",
       "Length: 123, dtype: int64"
      ]
     },
     "execution_count": 22,
     "metadata": {},
     "output_type": "execute_result"
    }
   ],
   "source": [
    "tt=data.value_counts(['toss_winner','winner'])\n",
    "tt"
   ]
  },
  {
   "cell_type": "markdown",
   "id": "295c8a69-3f20-4413-88b7-19de74083c28",
   "metadata": {},
   "source": [
    "#### The Relation between Toss Decision & The Winner of The Match"
   ]
  },
  {
   "cell_type": "code",
   "execution_count": 123,
   "id": "9c505038-81c6-4f63-bfc4-a8666d8ab7fa",
   "metadata": {},
   "outputs": [
    {
     "data": {
      "text/plain": [
       "toss_decision  winner                     \n",
       "field          Mumbai Indians                 64\n",
       "               Kings XI Punjab                61\n",
       "               Royal Challengers Bangalore    58\n",
       "               Kolkata Knight Riders          57\n",
       "bat            Chennai Super Kings            52\n",
       "field          Chennai Super Kings            48\n",
       "bat            Mumbai Indians                 45\n",
       "field          Rajasthan Royals               41\n",
       "               Delhi Daredevils               38\n",
       "               Sunrisers Hyderabad            37\n",
       "bat            Kolkata Knight Riders          35\n",
       "               Rajasthan Royals               34\n",
       "               Delhi Daredevils               29\n",
       "               Royal Challengers Bangalore    26\n",
       "               Sunrisers Hyderabad            21\n",
       "               Kings XI Punjab                21\n",
       "field          Deccan Chargers                15\n",
       "bat            Deccan Chargers                14\n",
       "field          Gujarat Lions                  11\n",
       "               Rising Pune Supergiant         10\n",
       "bat            Pune Warriors                   9\n",
       "field          Delhi Capitals                  8\n",
       "               Kochi Tuskers Kerala            6\n",
       "               Pune Warriors                   3\n",
       "               Rising Pune Supergiants         3\n",
       "bat            Gujarat Lions                   2\n",
       "               Delhi Capitals                  2\n",
       "               Rising Pune Supergiants         2\n",
       "dtype: int64"
      ]
     },
     "execution_count": 123,
     "metadata": {},
     "output_type": "execute_result"
    }
   ],
   "source": [
    "aa=data.value_counts(['toss_decision','winner'])\n",
    "aa"
   ]
  },
  {
   "cell_type": "markdown",
   "id": "c994f86d-2a48-40d7-84c7-48dee9cc9a40",
   "metadata": {},
   "source": [
    "### Graphs of relation between toss decision & the winner of the match \n",
    "   ###   And relation between toss winner & the winner of the match"
   ]
  },
  {
   "cell_type": "code",
   "execution_count": 138,
   "id": "4b65a55c-5eb6-49dd-b54b-d4dcd311b4c5",
   "metadata": {},
   "outputs": [
    {
     "data": {
      "image/png": "[encoded data removed]",
      "text/plain": [
       "<Figure size 432x288 with 1 Axes>"
      ]
     },
     "metadata": {},
     "output_type": "display_data"
    }
   ],
   "source": [
    "# Toss_decision & winner\n",
    "plt.pie(aa)\n",
    "plt.show()"
   ]
  },
  {
   "cell_type": "code",
   "execution_count": 27,
   "id": "96a961b8-7d1f-48e3-b7de-77711b72d272",
   "metadata": {},
   "outputs": [
    {
     "data": {
      "image/png": "[encoded data removed]",
      "text/plain": [
       "<Figure size 432x288 with 1 Axes>"
      ]
     },
     "metadata": {},
     "output_type": "display_data"
    }
   ],
   "source": [
    "# Toss_winner & winner\n",
    "plt.pie(tt)\n",
    "plt.show()"
   ]
  }
 ],
 "metadata": {
  "kernelspec": {
   "display_name": "Python 3",
   "language": "python",
   "name": "python3"
  },
  "language_info": {
   "codemirror_mode": {
    "name": "ipython",
    "version": 3
   },
   "file_extension": ".py",
   "mimetype": "text/x-python",
   "name": "python",
   "nbconvert_exporter": "python",
   "pygments_lexer": "ipython3",
   "version": "3.8.8"
  }
 },
 "nbformat": 4,
 "nbformat_minor": 5
}
